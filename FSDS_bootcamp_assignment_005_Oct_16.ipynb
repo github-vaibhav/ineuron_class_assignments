{
  "nbformat": 4,
  "nbformat_minor": 0,
  "metadata": {
    "colab": {
      "provenance": [],
      "collapsed_sections": []
    },
    "kernelspec": {
      "name": "python3",
      "display_name": "Python 3"
    },
    "language_info": {
      "name": "python"
    }
  },
  "cells": [
    {
      "cell_type": "markdown",
      "source": [
        "# ASSIGNMENTS \n",
        "## Send it before 0000 hrs IST or 12 AM Friday\n",
        "\n",
        "## NOTE: Evaluation will be done before next class.\n",
        "\n",
        "## HOW TO SUBMIT: -\n",
        "Download this notebook, Solve it and upload in the google form given in the mail."
      ],
      "metadata": {
        "id": "dkGbTD94s6CD"
      }
    },
    {
      "cell_type": "markdown",
      "source": [
        "# List, Tuple and Sets"
      ],
      "metadata": {
        "id": "n3FuI-mutNl6"
      }
    },
    {
      "cell_type": "markdown",
      "source": [
        "#### 1. On amazon website we have the following available items - \n",
        "\n",
        "```python\n",
        "amazon_website = [(\"watch\", 5000), (\"phone\", 10000), (\"laptop\", 50000), (\"shirt\", 1000)]\n",
        "```\n",
        "Take the user input N no. of times and find out the total cost to be paid?\n",
        "\n",
        "OR\n",
        "\n",
        "You can ask the user quntity or the count of item?\n",
        "\n",
        "if the item is not present in the amazon website then print that item as out of stock and do add it total\n",
        "\n",
        "\n",
        "HINT: while, for loop.. indexing"
      ],
      "metadata": {
        "id": "hZcGNSR2y9zW"
      }
    },
    {
      "cell_type": "code",
      "source": [
        "amazon_website = [(\"watch\", 5000), (\"phone\", 10000), (\"laptop\", 50000), (\"shirt\", 1000)]\n",
        "i=0\n",
        "total_cost =0\n",
        "while i>=0:\n",
        "  shop_flag = input(\"Do you want to shop Yes/No: \")\n",
        "  if shop_flag == \"Yes\":\n",
        "    user_input = input(\"What would you like to order: \")\n",
        "    if user_input == \"watch\":\n",
        "      total_cost = total_cost+5000\n",
        "    elif user_input == \"phone\":\n",
        "      total_cost = total_cost+10000\n",
        "    elif user_input == \"laptop\":\n",
        "      total_cost = total_cost+50000\n",
        "    else:\n",
        "      total_cost = total_cost+1000\n",
        "  elif shop_flag==\"No\":\n",
        "    break\n",
        "  else:\n",
        "    print(\"You have given wrong input\")\n",
        "  i=i+1\n",
        "print(f\"Total amount you spent on shopping is: {total_cost}\")\n",
        "\n"
      ],
      "metadata": {
        "colab": {
          "base_uri": "https://localhost:8080/"
        },
        "id": "I9Hx0GM_SXIe",
        "outputId": "c74264ce-81d5-43b3-bc33-88c6118709f3"
      },
      "execution_count": 12,
      "outputs": [
        {
          "output_type": "stream",
          "name": "stdout",
          "text": [
            "Do you want to shop Yes/No: Yes\n",
            "What would you like to order: laptop\n",
            "Do you want to shop Yes/No: Yes\n",
            "What would you like to order: phone\n",
            "Do you want to shop Yes/No: No\n",
            "Total amount you spent on shopping is: 60000\n"
          ]
        }
      ]
    },
    {
      "cell_type": "markdown",
      "source": [
        "#### 2. What will be the output of the following code snippet?\n",
        "\n",
        "```\n",
        "arr = [1, 2, 3, 4, 5, 6]\n",
        "for i in range(1, 6):\n",
        "    arr[i - 1] = arr[i]\n",
        "for i in range(0, 6): \n",
        "    print(arr[i], end = \" \")\n",
        "```"
      ],
      "metadata": {
        "id": "FQrKC2gzzsUm"
      }
    },
    {
      "cell_type": "code",
      "source": [
        "arr = [1, 2, 3, 4, 5, 6]\n",
        "for i in range(1, 6):\n",
        "    arr[i - 1] = arr[i]\n",
        "for i in range(0, 6): \n",
        "    print(arr[i], end = \" \")"
      ],
      "metadata": {
        "colab": {
          "base_uri": "https://localhost:8080/"
        },
        "id": "NzjDDXujdf7S",
        "outputId": "b8914440-38af-4ca7-aa31-9bec85dbad23"
      },
      "execution_count": 5,
      "outputs": [
        {
          "output_type": "stream",
          "name": "stdout",
          "text": [
            "2 3 4 5 6 6 "
          ]
        }
      ]
    },
    {
      "cell_type": "markdown",
      "source": [
        "#### 3. Write a Python program to find the repeated items of a tuple."
      ],
      "metadata": {
        "id": "nL_DZJFS0ZZF"
      }
    },
    {
      "cell_type": "code",
      "source": [
        "a=(1,2,77,8,\"Vaibhav\",8,2,14,88.6,1,88.6,1,2)\n",
        "l=len(a)\n",
        "for x in range(0,l):\n",
        "  print(f\"{a[x]} is repeated {a.count(a[x])}\")"
      ],
      "metadata": {
        "colab": {
          "base_uri": "https://localhost:8080/"
        },
        "id": "3HLDLHFnjdRY",
        "outputId": "4b343645-ecc6-4322-8a23-125c5b4b61e2"
      },
      "execution_count": 11,
      "outputs": [
        {
          "output_type": "stream",
          "name": "stdout",
          "text": [
            "1 is repeated 3\n",
            "2 is repeated 3\n",
            "77 is repeated 1\n",
            "8 is repeated 2\n",
            "Vaibhav is repeated 1\n",
            "8 is repeated 2\n",
            "2 is repeated 3\n",
            "14 is repeated 1\n",
            "88.6 is repeated 2\n",
            "1 is repeated 3\n",
            "88.6 is repeated 2\n",
            "1 is repeated 3\n",
            "2 is repeated 3\n"
          ]
        }
      ]
    },
    {
      "cell_type": "markdown",
      "source": [
        "### 4. Replace last value of tuples in a list with 500. Try using list comprehension\n",
        "\n",
        "Example -: \n",
        "```\n",
        "Input -:\n",
        "\n",
        "[(10, 20, 40), (40, 50, 60), (70, 80, 90)]\n",
        "\n",
        "Output -:\n",
        "[(10, 20, 500), (40, 50, 500), (70, 80, 500)]\n",
        "\n",
        "\n",
        "```\n"
      ],
      "metadata": {
        "id": "ne8WpLZZ1GSm"
      }
    },
    {
      "cell_type": "code",
      "source": [
        "lis = [(10, 20, 40), (40, 50, 60), (70, 80, 90)]\n",
        "\n",
        "G=[str(list(x)).replace(str(list(x)[2]),\"500\") for x in lis]\n",
        "print(G)"
      ],
      "metadata": {
        "colab": {
          "base_uri": "https://localhost:8080/"
        },
        "id": "MrILFveNmoXx",
        "outputId": "845fcc1a-0b5e-46e5-830e-a208092a22c1"
      },
      "execution_count": 74,
      "outputs": [
        {
          "output_type": "stream",
          "name": "stdout",
          "text": [
            "['[10, 20, 500]', '[40, 50, 500]', '[70, 80, 500]']\n"
          ]
        }
      ]
    }
  ]
}