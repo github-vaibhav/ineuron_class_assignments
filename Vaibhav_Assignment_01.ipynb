{
  "nbformat": 4,
  "nbformat_minor": 0,
  "metadata": {
    "colab": {
      "provenance": [],
      "collapsed_sections": [],
      "toc_visible": true
    },
    "kernelspec": {
      "name": "python3",
      "display_name": "Python 3"
    },
    "language_info": {
      "name": "python"
    }
  },
  "cells": [
    {
      "cell_type": "markdown",
      "source": [
        "### 1) Find out all the types of error that we have encountered in our lecture and why? Also include the examples."
      ],
      "metadata": {
        "id": "n8y-VU9y20k8"
      }
    },
    {
      "cell_type": "markdown",
      "source": [
        "### NameError"
      ],
      "metadata": {
        "id": "1W7wL3E3xCf7"
      }
    },
    {
      "cell_type": "code",
      "source": [
        "Age = 18\n",
        "print(age)"
      ],
      "metadata": {
        "colab": {
          "base_uri": "https://localhost:8080/",
          "height": 183
        },
        "id": "wogyxueToSJS",
        "outputId": "814a9a20-0081-457e-b5c1-87d77b591cf2"
      },
      "execution_count": 4,
      "outputs": [
        {
          "output_type": "error",
          "ename": "NameError",
          "evalue": "ignored",
          "traceback": [
            "\u001b[0;31m---------------------------------------------------------------------------\u001b[0m",
            "\u001b[0;31mNameError\u001b[0m                                 Traceback (most recent call last)",
            "\u001b[0;32m<ipython-input-4-65c50ec0da1a>\u001b[0m in \u001b[0;36m<module>\u001b[0;34m\u001b[0m\n\u001b[1;32m      1\u001b[0m \u001b[0mAge\u001b[0m \u001b[0;34m=\u001b[0m \u001b[0;36m18\u001b[0m\u001b[0;34m\u001b[0m\u001b[0;34m\u001b[0m\u001b[0m\n\u001b[0;32m----> 2\u001b[0;31m \u001b[0mprint\u001b[0m\u001b[0;34m(\u001b[0m\u001b[0mage\u001b[0m\u001b[0;34m)\u001b[0m\u001b[0;34m\u001b[0m\u001b[0;34m\u001b[0m\u001b[0m\n\u001b[0m",
            "\u001b[0;31mNameError\u001b[0m: name 'age' is not defined"
          ]
        }
      ]
    },
    {
      "cell_type": "code",
      "source": [
        "print(\"Vaibhav\")"
      ],
      "metadata": {
        "colab": {
          "base_uri": "https://localhost:8080/"
        },
        "id": "HqVhDEzVo5Lb",
        "outputId": "e223cffd-0917-4e7f-d8da-2007380216a9"
      },
      "execution_count": 11,
      "outputs": [
        {
          "output_type": "stream",
          "name": "stdout",
          "text": [
            "Vaibhav\n"
          ]
        }
      ]
    },
    {
      "cell_type": "markdown",
      "source": [
        "###TypeError"
      ],
      "metadata": {
        "id": "o1d3D86YvKw8"
      }
    },
    {
      "cell_type": "code",
      "source": [
        "print = \"Vaibhav\"\n",
        "print(\"Vaibhav\")"
      ],
      "metadata": {
        "colab": {
          "base_uri": "https://localhost:8080/",
          "height": 183
        },
        "id": "aPnK-8wLq8f3",
        "outputId": "8b41553c-32e0-4b82-b980-cc7be90cfc24"
      },
      "execution_count": 12,
      "outputs": [
        {
          "output_type": "error",
          "ename": "TypeError",
          "evalue": "ignored",
          "traceback": [
            "\u001b[0;31m---------------------------------------------------------------------------\u001b[0m",
            "\u001b[0;31mTypeError\u001b[0m                                 Traceback (most recent call last)",
            "\u001b[0;32m<ipython-input-12-6dbf4ff284fd>\u001b[0m in \u001b[0;36m<module>\u001b[0;34m\u001b[0m\n\u001b[1;32m      1\u001b[0m \u001b[0mprint\u001b[0m \u001b[0;34m=\u001b[0m \u001b[0;34m\"Vaibhav\"\u001b[0m\u001b[0;34m\u001b[0m\u001b[0;34m\u001b[0m\u001b[0m\n\u001b[0;32m----> 2\u001b[0;31m \u001b[0mprint\u001b[0m\u001b[0;34m(\u001b[0m\u001b[0;34m\"Vaibhav\"\u001b[0m\u001b[0;34m)\u001b[0m\u001b[0;34m\u001b[0m\u001b[0;34m\u001b[0m\u001b[0m\n\u001b[0m",
            "\u001b[0;31mTypeError\u001b[0m: 'str' object is not callable"
          ]
        }
      ]
    },
    {
      "cell_type": "code",
      "source": [
        "del print"
      ],
      "metadata": {
        "id": "inltVndfq08_"
      },
      "execution_count": 13,
      "outputs": []
    },
    {
      "cell_type": "code",
      "source": [
        "print(\"Vaibhav\")"
      ],
      "metadata": {
        "colab": {
          "base_uri": "https://localhost:8080/"
        },
        "id": "Pw-mCznZrmq3",
        "outputId": "694d7dbd-2acf-4f9c-d40e-a29a06374a16"
      },
      "execution_count": 14,
      "outputs": [
        {
          "output_type": "stream",
          "name": "stdout",
          "text": [
            "Vaibhav\n"
          ]
        }
      ]
    },
    {
      "cell_type": "markdown",
      "source": [
        "### NameError Again within user input"
      ],
      "metadata": {
        "id": "WeKD3p-Iu6HB"
      }
    },
    {
      "cell_type": "code",
      "source": [
        "name = input(\"Enter your name\")\n",
        "print(f\"Your name is {Name}\")"
      ],
      "metadata": {
        "colab": {
          "base_uri": "https://localhost:8080/",
          "height": 201
        },
        "id": "e2aMhpSctFO1",
        "outputId": "87eb84f9-6986-4a2e-8604-a47ed65489b4"
      },
      "execution_count": 15,
      "outputs": [
        {
          "name": "stdout",
          "output_type": "stream",
          "text": [
            "Enter your nameVaibhav\n"
          ]
        },
        {
          "output_type": "error",
          "ename": "NameError",
          "evalue": "ignored",
          "traceback": [
            "\u001b[0;31m---------------------------------------------------------------------------\u001b[0m",
            "\u001b[0;31mNameError\u001b[0m                                 Traceback (most recent call last)",
            "\u001b[0;32m<ipython-input-15-791f4d5c8937>\u001b[0m in \u001b[0;36m<module>\u001b[0;34m\u001b[0m\n\u001b[1;32m      1\u001b[0m \u001b[0mname\u001b[0m \u001b[0;34m=\u001b[0m \u001b[0minput\u001b[0m\u001b[0;34m(\u001b[0m\u001b[0;34m\"Enter your name\"\u001b[0m\u001b[0;34m)\u001b[0m\u001b[0;34m\u001b[0m\u001b[0;34m\u001b[0m\u001b[0m\n\u001b[0;32m----> 2\u001b[0;31m \u001b[0mprint\u001b[0m\u001b[0;34m(\u001b[0m\u001b[0;34mf\"Your name is {Name}\"\u001b[0m\u001b[0;34m)\u001b[0m\u001b[0;34m\u001b[0m\u001b[0;34m\u001b[0m\u001b[0m\n\u001b[0m",
            "\u001b[0;31mNameError\u001b[0m: name 'Name' is not defined"
          ]
        }
      ]
    },
    {
      "cell_type": "markdown",
      "source": [
        "###Syntax error for data Types"
      ],
      "metadata": {
        "id": "I072t08NvUQw"
      }
    },
    {
      "cell_type": "code",
      "source": [
        "int A"
      ],
      "metadata": {
        "colab": {
          "base_uri": "https://localhost:8080/",
          "height": 131
        },
        "id": "kDHxqazXv5cs",
        "outputId": "f9e51c2c-a9b6-497a-9217-e6dfe3cf6751"
      },
      "execution_count": 16,
      "outputs": [
        {
          "output_type": "error",
          "ename": "SyntaxError",
          "evalue": "ignored",
          "traceback": [
            "\u001b[0;36m  File \u001b[0;32m\"<ipython-input-16-7da0083d4c6e>\"\u001b[0;36m, line \u001b[0;32m1\u001b[0m\n\u001b[0;31m    int A\u001b[0m\n\u001b[0m        ^\u001b[0m\n\u001b[0;31mSyntaxError\u001b[0m\u001b[0;31m:\u001b[0m invalid syntax\n"
          ]
        }
      ]
    },
    {
      "cell_type": "code",
      "source": [
        "float B"
      ],
      "metadata": {
        "colab": {
          "base_uri": "https://localhost:8080/",
          "height": 131
        },
        "id": "LIHGlR7iwCWU",
        "outputId": "d4bf4c89-ad14-41c1-9f5f-b8da67469ee9"
      },
      "execution_count": 17,
      "outputs": [
        {
          "output_type": "error",
          "ename": "SyntaxError",
          "evalue": "ignored",
          "traceback": [
            "\u001b[0;36m  File \u001b[0;32m\"<ipython-input-17-c21f02e0b271>\"\u001b[0;36m, line \u001b[0;32m1\u001b[0m\n\u001b[0;31m    float B\u001b[0m\n\u001b[0m          ^\u001b[0m\n\u001b[0;31mSyntaxError\u001b[0m\u001b[0;31m:\u001b[0m invalid syntax\n"
          ]
        }
      ]
    },
    {
      "cell_type": "markdown",
      "source": [
        "### ValueError"
      ],
      "metadata": {
        "id": "CGT8RpROxkfX"
      }
    },
    {
      "cell_type": "code",
      "source": [
        "a = int(input(\"Enter value for a \"))\n",
        "b = float(input(\"Enter value for b \"))\n",
        "c = int(input(\"Enter value for c \"))\n",
        "print(f\"Sum of all numbers is {a+b+c}\")"
      ],
      "metadata": {
        "colab": {
          "base_uri": "https://localhost:8080/",
          "height": 270
        },
        "id": "faJlRUqcxn8r",
        "outputId": "f4043d65-650a-4942-e9d9-a174ff38d051"
      },
      "execution_count": 22,
      "outputs": [
        {
          "name": "stdout",
          "output_type": "stream",
          "text": [
            "Enter value for a 2\n",
            "Enter value for b 2.5\n",
            "Enter value for c 2.5\n"
          ]
        },
        {
          "output_type": "error",
          "ename": "ValueError",
          "evalue": "ignored",
          "traceback": [
            "\u001b[0;31m---------------------------------------------------------------------------\u001b[0m",
            "\u001b[0;31mValueError\u001b[0m                                Traceback (most recent call last)",
            "\u001b[0;32m<ipython-input-22-df600d6f1e86>\u001b[0m in \u001b[0;36m<module>\u001b[0;34m\u001b[0m\n\u001b[1;32m      1\u001b[0m \u001b[0ma\u001b[0m \u001b[0;34m=\u001b[0m \u001b[0mint\u001b[0m\u001b[0;34m(\u001b[0m\u001b[0minput\u001b[0m\u001b[0;34m(\u001b[0m\u001b[0;34m\"Enter value for a \"\u001b[0m\u001b[0;34m)\u001b[0m\u001b[0;34m)\u001b[0m\u001b[0;34m\u001b[0m\u001b[0;34m\u001b[0m\u001b[0m\n\u001b[1;32m      2\u001b[0m \u001b[0mb\u001b[0m \u001b[0;34m=\u001b[0m \u001b[0mfloat\u001b[0m\u001b[0;34m(\u001b[0m\u001b[0minput\u001b[0m\u001b[0;34m(\u001b[0m\u001b[0;34m\"Enter value for b \"\u001b[0m\u001b[0;34m)\u001b[0m\u001b[0;34m)\u001b[0m\u001b[0;34m\u001b[0m\u001b[0;34m\u001b[0m\u001b[0m\n\u001b[0;32m----> 3\u001b[0;31m \u001b[0mc\u001b[0m \u001b[0;34m=\u001b[0m \u001b[0mint\u001b[0m\u001b[0;34m(\u001b[0m\u001b[0minput\u001b[0m\u001b[0;34m(\u001b[0m\u001b[0;34m\"Enter value for c \"\u001b[0m\u001b[0;34m)\u001b[0m\u001b[0;34m)\u001b[0m\u001b[0;34m\u001b[0m\u001b[0;34m\u001b[0m\u001b[0m\n\u001b[0m\u001b[1;32m      4\u001b[0m \u001b[0mprint\u001b[0m\u001b[0;34m(\u001b[0m\u001b[0;34mf\"Sum of all numbers is {a+b+c}\"\u001b[0m\u001b[0;34m)\u001b[0m\u001b[0;34m\u001b[0m\u001b[0;34m\u001b[0m\u001b[0m\n",
            "\u001b[0;31mValueError\u001b[0m: invalid literal for int() with base 10: '2.5'"
          ]
        }
      ]
    },
    {
      "cell_type": "markdown",
      "source": [
        "### ValueError during empty String to Integer conversion"
      ],
      "metadata": {
        "id": "QYBO35GhzwP9"
      }
    },
    {
      "cell_type": "code",
      "source": [
        "A=\"\"\n",
        "print(f\"data type before conversion: {type(A)}, value of A: {A}\")\n",
        "B=int(A) ## trying to convert string to integer\n",
        "print(f\"data type after conversion: {type(B)}, value of B: {B}\")"
      ],
      "metadata": {
        "colab": {
          "base_uri": "https://localhost:8080/",
          "height": 235
        },
        "id": "7ikBfqxzzvjb",
        "outputId": "e0fa8dbb-840b-4449-fd47-de5da7da5aff"
      },
      "execution_count": 25,
      "outputs": [
        {
          "output_type": "stream",
          "name": "stdout",
          "text": [
            "data type before conversion: <class 'str'>, value of A: \n"
          ]
        },
        {
          "output_type": "error",
          "ename": "ValueError",
          "evalue": "ignored",
          "traceback": [
            "\u001b[0;31m---------------------------------------------------------------------------\u001b[0m",
            "\u001b[0;31mValueError\u001b[0m                                Traceback (most recent call last)",
            "\u001b[0;32m<ipython-input-25-abe30bd460cf>\u001b[0m in \u001b[0;36m<module>\u001b[0;34m\u001b[0m\n\u001b[1;32m      1\u001b[0m \u001b[0mA\u001b[0m\u001b[0;34m=\u001b[0m\u001b[0;34m\"\"\u001b[0m\u001b[0;34m\u001b[0m\u001b[0;34m\u001b[0m\u001b[0m\n\u001b[1;32m      2\u001b[0m \u001b[0mprint\u001b[0m\u001b[0;34m(\u001b[0m\u001b[0;34mf\"data type before conversion: {type(A)}, value of A: {A}\"\u001b[0m\u001b[0;34m)\u001b[0m\u001b[0;34m\u001b[0m\u001b[0;34m\u001b[0m\u001b[0m\n\u001b[0;32m----> 3\u001b[0;31m \u001b[0mB\u001b[0m\u001b[0;34m=\u001b[0m\u001b[0mint\u001b[0m\u001b[0;34m(\u001b[0m\u001b[0mA\u001b[0m\u001b[0;34m)\u001b[0m \u001b[0;31m## trying to convert string to integer\u001b[0m\u001b[0;34m\u001b[0m\u001b[0;34m\u001b[0m\u001b[0m\n\u001b[0m\u001b[1;32m      4\u001b[0m \u001b[0mprint\u001b[0m\u001b[0;34m(\u001b[0m\u001b[0;34mf\"data type after conversion: {type(B)}, value of B: {B}\"\u001b[0m\u001b[0;34m)\u001b[0m\u001b[0;34m\u001b[0m\u001b[0;34m\u001b[0m\u001b[0m\n",
            "\u001b[0;31mValueError\u001b[0m: invalid literal for int() with base 10: ''"
          ]
        }
      ]
    },
    {
      "cell_type": "markdown",
      "source": [
        "### 2) Take input A and B and print their sum, mul, div, square of the nos."
      ],
      "metadata": {
        "id": "2Q3BZoxu2Yfs"
      }
    },
    {
      "cell_type": "code",
      "source": [
        "A=int(input(\"Enter value for A: \"))\n",
        "B=int(input(\"Enter value for B: \"))\n",
        "print(f\"\"\"Sum of A and B is:{A+B}\n",
        "Multiplication of A and B is:{A*B}\n",
        "Division of A/B is:{A/B}\n",
        "Square of A is:{A**2}\n",
        "Square of B is:{B**2}\"\"\")\n"
      ],
      "metadata": {
        "colab": {
          "base_uri": "https://localhost:8080/"
        },
        "id": "fgh7_IST2eYR",
        "outputId": "e9a06c82-22c2-47c7-c083-55cca2a3083b"
      },
      "execution_count": 31,
      "outputs": [
        {
          "output_type": "stream",
          "name": "stdout",
          "text": [
            "Enter value for A: 8\n",
            "Enter value for B: 4\n",
            "Sum of A and B is:12\n",
            "Multiplication of A and B is:32\n",
            "Division of A/B is:2.0\n",
            "Square of A is:64\n",
            "Square of B is:16\n"
          ]
        }
      ]
    },
    {
      "cell_type": "markdown",
      "source": [
        "### 3) How many reserve keywords are there in python and why we should not use them as a variable name.\n",
        "\n",
        "Ans - Following are 31 reserve keywords currently present in Python. \n",
        "\n",
        "We should not use them as a variable because these reserve keywords represent deafult methods/function or libraries that could be used to perform various operations during coding. If we make them as variable then they will lose their default functionality and will not perform their in-built operations there by making coding complicated and lengthy.\n",
        "\n",
        "and       del       from      not       while    \n",
        "as        elif      global    or        with     \n",
        "assert    else      if        pass      yield    \n",
        "break     except    import    print              \n",
        "class     exec      in        raise              \n",
        "continue  finally   is        return             \n",
        "def       for       lambda    try"
      ],
      "metadata": {
        "id": "Yd8csaEM6Ey5"
      }
    },
    {
      "cell_type": "markdown",
      "source": [
        "#### 4) Create email ids with the user inputs. in the following format - lastname.firstname@gmail.com"
      ],
      "metadata": {
        "id": "LlVZ-00u9hpi"
      }
    },
    {
      "cell_type": "code",
      "source": [
        "fname = input(\"Enter your first name: \")\n",
        "lname = input(\"Enter your last name: \")\n",
        "email_service=input(\"Enter your email service provider\");\n",
        "print(f\"Users email id is: {lname}.{fname}{email_service}\")"
      ],
      "metadata": {
        "colab": {
          "base_uri": "https://localhost:8080/"
        },
        "id": "BpYTRSe39yc_",
        "outputId": "9d0443ab-3991-440b-d321-01f2815db08c"
      },
      "execution_count": 42,
      "outputs": [
        {
          "output_type": "stream",
          "name": "stdout",
          "text": [
            "Enter your first name: vaibhav\n",
            "Enter your last name: chaturvedi\n",
            "Enter your email service provider@gmail.com\n",
            "Users email id is: chaturvedi.vaibhav@gmail.com\n"
          ]
        }
      ]
    },
    {
      "cell_type": "markdown",
      "source": [
        "#### 5) Try to print the following lines -\n",
        "Hi I'm Sunny\n",
        "My address is 22\\3\n",
        "I earn 20$ daily."
      ],
      "metadata": {
        "id": "cER5VKzDCxti"
      }
    },
    {
      "cell_type": "code",
      "source": [
        "print(\"\"\"Hi I'm Sunny\n",
        "My address is 22\\\\3\n",
        "I earn 20$ daily.\"\"\")"
      ],
      "metadata": {
        "colab": {
          "base_uri": "https://localhost:8080/"
        },
        "id": "fzN24XhTC6rO",
        "outputId": "92db987b-1380-45e6-8c65-28170369ecf9"
      },
      "execution_count": 44,
      "outputs": [
        {
          "output_type": "stream",
          "name": "stdout",
          "text": [
            "Hi I'm Sunny\n",
            "My address is 22\\3\n",
            "I earn 20$ daily.\n"
          ]
        }
      ]
    },
    {
      "cell_type": "markdown",
      "source": [
        "#### 6) Take user input (name, address, date of birth etc) to fill a form for your college and print their email IDs"
      ],
      "metadata": {
        "id": "tKrXCfTuDfeh"
      }
    },
    {
      "cell_type": "code",
      "source": [
        "full_name = input(\"Enter your full name: \")\n",
        "address = input(\"Enter your full address: \")\n",
        "dob = input(\"Enter your date of birth in dd/mm/yyyy format: \")\n",
        "email_service=input(\"Enter your email service provider\")\n",
        "college = input(\"Enter your College Name: \")\n",
        "\n",
        "print(f\"\"\" Students college Name is: {college}\n",
        "Students full name is:{full_name}\n",
        "Students date of birth is: {dob}\n",
        "Students email id is: {full_name}{email_service}\"\"\")"
      ],
      "metadata": {
        "colab": {
          "base_uri": "https://localhost:8080/"
        },
        "id": "2RzqWQpYDmfR",
        "outputId": "df3ce9cf-7542-4769-fd47-9ed1d761eddf"
      },
      "execution_count": 47,
      "outputs": [
        {
          "output_type": "stream",
          "name": "stdout",
          "text": [
            "Enter your full name: vaibhavchaturvedi\n",
            "Enter your full address: J-10/14, BTM, Bangalore - 560099\n",
            "Enter your date of birth in dd/mm/yyyy format: 10/10/1990\n",
            "Enter your email service provider@gmail.com\n",
            "Enter your College Name: AAA college of Engineering\n",
            " Students college Name is: AAA college of Engineering\n",
            "Students full name is:vaibhavchaturvedi\n",
            "Students date of birth is: 10/10/1990\n",
            "Students email id is: vaibhavchaturvedi@gmail.com\n"
          ]
        }
      ]
    },
    {
      "cell_type": "markdown",
      "source": [
        "#### 7) Convert the following -\n",
        "\"22.4\" into integer and \n",
        "\"22\" into complex no."
      ],
      "metadata": {
        "id": "z5T3pwA4GPK2"
      }
    },
    {
      "cell_type": "code",
      "source": [
        "A=float(input(\"Enter any decimal number: \"))\n",
        "B=int(A)\n",
        "C=complex(B)\n",
        "print(f\"\"\"Decimal number after conversion to integer is: {B} \n",
        "Integer number after conversion to complex number is: {C}\"\"\")\n"
      ],
      "metadata": {
        "colab": {
          "base_uri": "https://localhost:8080/"
        },
        "id": "3hvyPbTaGVET",
        "outputId": "6fededff-77c7-4273-d6e0-d67c6ea72d08"
      },
      "execution_count": 49,
      "outputs": [
        {
          "output_type": "stream",
          "name": "stdout",
          "text": [
            "Enter any decimal number: 22.4\n",
            "Decimal number after conversion to integer is: 22 \n",
            "Integer number after conversion to complex number is: (22+0j)\n"
          ]
        }
      ]
    }
  ]
}