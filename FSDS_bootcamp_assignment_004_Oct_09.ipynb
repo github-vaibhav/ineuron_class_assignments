{
  "nbformat": 4,
  "nbformat_minor": 0,
  "metadata": {
    "colab": {
      "provenance": [],
      "collapsed_sections": []
    },
    "kernelspec": {
      "name": "python3",
      "display_name": "Python 3"
    },
    "language_info": {
      "name": "python"
    }
  },
  "cells": [
    {
      "cell_type": "markdown",
      "source": [
        "Q1. Find the largest number from the given list, use for loop.\n",
        "\n",
        "```\n",
        "numbers = [12, 75, 150, 180, 145, 525, 50]\n",
        "```"
      ],
      "metadata": {
        "id": "oKiwCknC-vOB"
      }
    },
    {
      "cell_type": "code",
      "execution_count": 25,
      "metadata": {
        "colab": {
          "base_uri": "https://localhost:8080/"
        },
        "id": "sxqUW4xw-n2u",
        "outputId": "fca35b04-3bee-47ad-ca87-ff70f0eac6b3"
      },
      "outputs": [
        {
          "output_type": "stream",
          "name": "stdout",
          "text": [
            "Greated value in the list is 525\n"
          ]
        }
      ],
      "source": [
        "numbers = [12, 75, 150, 180, 145, 525, 50]\n",
        "length = len(numbers)\n",
        "for x in numbers:             \n",
        "  for y in range(0,length):\n",
        "    if x<numbers[y]:\n",
        "      x=numbers[y]\n",
        "    else: \n",
        "     continue\n",
        "  continue\n",
        "print(f\"Greated value in the list is {x}\")"
      ]
    },
    {
      "cell_type": "markdown",
      "source": [
        "Q2. Print all the even number between (1, 12)."
      ],
      "metadata": {
        "id": "gzMugLcFr3pU"
      }
    },
    {
      "cell_type": "code",
      "source": [
        "for x in range (1,12):\n",
        "  if x%2==0:\n",
        "    print(f\"{x} is an even number\")\n",
        "  else:\n",
        "    print(f\"{x} is NOT an even number\")"
      ],
      "metadata": {
        "colab": {
          "base_uri": "https://localhost:8080/"
        },
        "id": "0mqDIkWUr4ZB",
        "outputId": "b7bd50f1-76c0-4191-e9e1-c2e013d4b738"
      },
      "execution_count": 26,
      "outputs": [
        {
          "output_type": "stream",
          "name": "stdout",
          "text": [
            "1 is NOT an even number\n",
            "2 is an even number\n",
            "3 is NOT an even number\n",
            "4 is an even number\n",
            "5 is NOT an even number\n",
            "6 is an even number\n",
            "7 is NOT an even number\n",
            "8 is an even number\n",
            "9 is NOT an even number\n",
            "10 is an even number\n",
            "11 is NOT an even number\n"
          ]
        }
      ]
    },
    {
      "cell_type": "markdown",
      "source": [
        "Q3. Calculate the sum of all numbers from 1 to a given number\n",
        "    \n",
        "    Expected Output:\n",
        "\n",
        "    Enter number 10\n",
        "    \n",
        "    Sum is:  55"
      ],
      "metadata": {
        "id": "QDZFnU3KtZqx"
      }
    },
    {
      "cell_type": "code",
      "source": [
        "num = int(input(\"Enter any number: \"))\n",
        "c=i=0\n",
        "for i in range(1, num+1):\n",
        "  c=c+i\n",
        "print (f\"Total sum is: {c}\")"
      ],
      "metadata": {
        "colab": {
          "base_uri": "https://localhost:8080/"
        },
        "id": "vLDMzW2wta3u",
        "outputId": "5e31f7c6-b7a1-4bc6-bde7-53c180bc9b4d"
      },
      "execution_count": 38,
      "outputs": [
        {
          "output_type": "stream",
          "name": "stdout",
          "text": [
            "Enter any number: 4\n",
            "Total sum is: 10\n"
          ]
        }
      ]
    },
    {
      "cell_type": "markdown",
      "source": [
        "Q4. Write a program to display only those numbers from a list that satisfy the following conditions\n",
        "\n",
        "The number must be divisible by five\n",
        "\n",
        "If the number is greater than 150, then skip it and move to the next number\n",
        "\n",
        "If the number is greater than 500, then stop the loop"
      ],
      "metadata": {
        "id": "KLJGQFdJwIhN"
      }
    },
    {
      "cell_type": "code",
      "source": [
        "# Given:\n",
        "numbers = [12, 75, 150, 180, 145, 525, 50]\n",
        "for i in numbers:\n",
        "  if i%5==0:\n",
        "    if i>500:\n",
        "      print(f\"{i}\")\n",
        "      break\n",
        "      if i>150:\n",
        "       print(f\"{i} number skipped\")\n",
        "       continue\n",
        "  else:\n",
        "    pass"
      ],
      "metadata": {
        "colab": {
          "base_uri": "https://localhost:8080/"
        },
        "id": "TTJq_E63wJ_u",
        "outputId": "a86243ef-db4e-4601-ede3-d46cab8dce7d"
      },
      "execution_count": 48,
      "outputs": [
        {
          "output_type": "stream",
          "name": "stdout",
          "text": [
            "525\n"
          ]
        }
      ]
    },
    {
      "cell_type": "markdown",
      "source": [
        "Q5. Print the given list in reverse order.\n",
        "\n",
        "```\n",
        "list1 = [10, 20, 30, 40, 50]\n",
        "```"
      ],
      "metadata": {
        "id": "UPPtOK1u22Lz"
      }
    },
    {
      "cell_type": "code",
      "source": [
        "list1 = [10, 20, 30, 40, 50]\n",
        "print(f\"Reverse order is {list1[::-1]}\")"
      ],
      "metadata": {
        "colab": {
          "base_uri": "https://localhost:8080/"
        },
        "id": "8hjIqiDB23MI",
        "outputId": "53f9b84c-ffce-4cdd-f1c7-8dd99201986b"
      },
      "execution_count": 52,
      "outputs": [
        {
          "output_type": "stream",
          "name": "stdout",
          "text": [
            "Reverse order is [50, 40, 30, 20, 10]\n"
          ]
        }
      ]
    }
  ]
}