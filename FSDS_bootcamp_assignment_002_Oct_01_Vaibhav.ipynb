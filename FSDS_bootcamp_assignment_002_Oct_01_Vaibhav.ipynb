{
  "nbformat": 4,
  "nbformat_minor": 0,
  "metadata": {
    "colab": {
      "provenance": [],
      "collapsed_sections": []
    },
    "kernelspec": {
      "name": "python3",
      "display_name": "Python 3"
    },
    "language_info": {
      "name": "python"
    }
  },
  "cells": [
    {
      "cell_type": "markdown",
      "source": [
        "### 1. What is indentation error? Why indentation is important? Give one simple example?\n",
        "\n",
        "When code blocks are not aligned or structured properly with spaces or tabs to show that particular line of code falls under a specific block of code then we get to see indentation error. \n",
        "\n",
        "It is important as it helps to maintain easier readability of code and helps the compiler identify line/s of code falls under which block of code.\n",
        "\n",
        "In below example print statement is missing spaces in the beginning of line hence we are getting indentation error as complier is unable to differentiate between block of code.\n"
      ],
      "metadata": {
        "id": "CWf58QDCjNv3"
      }
    },
    {
      "cell_type": "code",
      "source": [
        "is_it_raining = bool(int(input(\"Is it raining: Yes-1/No-0 \")))\n",
        "if is_it_raining:\n",
        "print(\"It's a Rainy Day today\")\n",
        "else:\n",
        "   print(\"It's a Sunny Day today\") "
      ],
      "metadata": {
        "colab": {
          "base_uri": "https://localhost:8080/",
          "height": 131
        },
        "id": "VzUgSQW_jbwE",
        "outputId": "3c052790-5f4b-4b47-f593-9e2ada27de22"
      },
      "execution_count": null,
      "outputs": [
        {
          "output_type": "error",
          "ename": "IndentationError",
          "evalue": "ignored",
          "traceback": [
            "\u001b[0;36m  File \u001b[0;32m\"<ipython-input-34-6c62dbda99b9>\"\u001b[0;36m, line \u001b[0;32m3\u001b[0m\n\u001b[0;31m    print(\"It's a Rainy Day today\")\u001b[0m\n\u001b[0m        ^\u001b[0m\n\u001b[0;31mIndentationError\u001b[0m\u001b[0;31m:\u001b[0m expected an indented block\n"
          ]
        }
      ]
    },
    {
      "cell_type": "markdown",
      "source": [
        "### 2. Correct the following code and write the comment where you made the correction?"
      ],
      "metadata": {
        "id": "yq0AO8L5g87Z"
      }
    },
    {
      "cell_type": "code",
      "execution_count": null,
      "metadata": {
        "colab": {
          "base_uri": "https://localhost:8080/"
        },
        "id": "U0HT9K3GcyQs",
        "outputId": "beb0f5af-623f-4ceb-c9c9-2361c246c2bb"
      },
      "outputs": [
        {
          "output_type": "stream",
          "name": "stdout",
          "text": [
            "Hey friend, is class started?: [0-False/1-True]0\n",
            "Since class is not started...\n",
            "let's revise\n"
          ]
        }
      ],
      "source": [
        "class_started = bool(int(input(\"Hey friend, is class started?: [0-False/1-True]\"))) ## converted input datatype to integer\n",
        "\n",
        "if class_started:\n",
        "   print(\"Since class started...\")\n",
        "   print(\"Lets concentrate\")\n",
        "else:\n",
        "   print(\"Since class is not started...\")\n",
        "   print(\"let's revise\")    "
      ]
    },
    {
      "cell_type": "markdown",
      "source": [
        "### 3. Use if else condition to verify that dataype of input() method in python is always string."
      ],
      "metadata": {
        "id": "tlm3NkZEodkS"
      }
    },
    {
      "cell_type": "code",
      "source": [
        "age = input(\"Enter your age to check if you are adult or child: \")\n",
        "height = input(\"Enter your height in this format (feet.inches): \")\n",
        "if type(age)==type(height):\n",
        "  print(\"String Data type\")\n",
        "else:\n",
        "  print(\"Not string data type\")\n"
      ],
      "metadata": {
        "colab": {
          "base_uri": "https://localhost:8080/"
        },
        "id": "FmLctXRLd2Ek",
        "outputId": "57ba4faa-3644-42d3-86a5-1625db5e7e2a"
      },
      "execution_count": null,
      "outputs": [
        {
          "output_type": "stream",
          "name": "stdout",
          "text": [
            "Enter your age to check if you are adult or child: 20\n",
            "Enter your height in this format (feet.inches): 40.7\n",
            "String Data type\n"
          ]
        }
      ]
    },
    {
      "cell_type": "markdown",
      "source": [
        "### 4. Take 3 variables and assign integer values to them. Find the largest variable, by only using the if and else conditions."
      ],
      "metadata": {
        "id": "Zg0Iandovxc0"
      }
    },
    {
      "cell_type": "code",
      "source": [
        "x,y,z=100,200,40\n",
        "if (x>=y) and (x>=z):\n",
        "  print(f\"Largest value is x: {x}\")\n",
        "elif (y>=x) and (y>=z):\n",
        "  print(f\"Largest value is y: {y}\")\n",
        "else:\n",
        "  print(f\"Largest value is z: {z}\")"
      ],
      "metadata": {
        "colab": {
          "base_uri": "https://localhost:8080/"
        },
        "id": "x2xn2MekhuAy",
        "outputId": "57f82b95-0278-4d7f-fa6b-df0fd1373e93"
      },
      "execution_count": null,
      "outputs": [
        {
          "output_type": "stream",
          "name": "stdout",
          "text": [
            "Largest value is y: 200\n"
          ]
        }
      ]
    },
    {
      "cell_type": "markdown",
      "source": [
        "### 5. What would be the solution?\n",
        "True/False\n",
        "\n",
        "Ans: False"
      ],
      "metadata": {
        "id": "S3EIs6DY8YJX"
      }
    },
    {
      "cell_type": "code",
      "source": [
        "a = 6\n",
        "b = 10\n",
        "print( not( not a == 10 or not b == 10) )"
      ],
      "metadata": {
        "colab": {
          "base_uri": "https://localhost:8080/"
        },
        "id": "okGb64Q38ZTv",
        "outputId": "57df3512-42fb-4759-d481-2e1b1131495c"
      },
      "execution_count": null,
      "outputs": [
        {
          "output_type": "stream",
          "name": "stdout",
          "text": [
            "False\n"
          ]
        }
      ]
    },
    {
      "cell_type": "markdown",
      "source": [
        "### 6. Find the answer as well as find out the reason behind the result? -"
      ],
      "metadata": {
        "id": "WpBLQCUg74tV"
      }
    },
    {
      "cell_type": "code",
      "source": [
        "A = 5.0\n",
        "B = 10/2\n",
        "id(B)\n",
        "print(A is B)\n",
        "print(id(A),id(B))"
      ],
      "metadata": {
        "colab": {
          "base_uri": "https://localhost:8080/"
        },
        "id": "0DJIUS377_E5",
        "outputId": "26f1e304-f8e4-4e3e-d0a6-2ca10221c924"
      },
      "execution_count": 17,
      "outputs": [
        {
          "output_type": "stream",
          "name": "stdout",
          "text": [
            "False\n",
            "139626520266160 139626520266864\n"
          ]
        }
      ]
    },
    {
      "cell_type": "code",
      "source": [
        "A = 5.0\n",
        "B = int(10/2)\n",
        "print(A is B)\n",
        "print(id(A),id(B))"
      ],
      "metadata": {
        "colab": {
          "base_uri": "https://localhost:8080/"
        },
        "id": "tfF_Ke6h-T2Q",
        "outputId": "9865d22f-650f-4495-e4dd-07b88da8de45"
      },
      "execution_count": 18,
      "outputs": [
        {
          "output_type": "stream",
          "name": "stdout",
          "text": [
            "False\n",
            "139626439643696 11122720\n"
          ]
        }
      ]
    },
    {
      "cell_type": "code",
      "source": [
        "A = 5.0\n",
        "B = float(10/2)\n",
        "print(A is B)\n",
        "print(id(A),id(B))"
      ],
      "metadata": {
        "colab": {
          "base_uri": "https://localhost:8080/"
        },
        "id": "6djgG14y-XNY",
        "outputId": "16fc4d2c-8d43-41b3-96ab-55e149db952b"
      },
      "execution_count": 19,
      "outputs": [
        {
          "output_type": "stream",
          "name": "stdout",
          "text": [
            "False\n",
            "139626520245200 139626520266864\n"
          ]
        }
      ]
    },
    {
      "cell_type": "markdown",
      "source": [
        "#### 7. Write a program that asks the user to enter a number. You should print out a message to the user, either “That number is divisible by either 3 or 5”, or “That number is not divisible by either 3 or 5”. Be sure to consider the data type of the input you are taking in from the user. Use a single if/else block to solve this problem."
      ],
      "metadata": {
        "id": "LSfIZApbMYWA"
      }
    },
    {
      "cell_type": "code",
      "source": [
        "number = int(input(\"Enter a number to check whether it's divisible by 5 or not: \" ))\n",
        "if number % 3==0 or number % 5==0:\n",
        "  print(\"This number is divisible by either 3 or 5\")\n",
        "else:\n",
        "  print(\"This number is NOT divisible by either 3 or 5\")"
      ],
      "metadata": {
        "colab": {
          "base_uri": "https://localhost:8080/"
        },
        "id": "I-46n522MY3g",
        "outputId": "463f61f5-222e-4afe-bfde-a879c789ace5"
      },
      "execution_count": 26,
      "outputs": [
        {
          "output_type": "stream",
          "name": "stdout",
          "text": [
            "Enter a number to check whether it's divisible by 5 or not: 135\n",
            "This number is divisible by either 3 or 5\n"
          ]
        }
      ]
    },
    {
      "cell_type": "markdown",
      "source": [
        "#### 8. Take user input for length and width. Then calculate the area of rectangle. Also print as per length and width whether its a square of rectangle."
      ],
      "metadata": {
        "id": "3G5xdN7Dkh76"
      }
    },
    {
      "cell_type": "code",
      "source": [
        "length = int(input(\"Enter length: \"))\n",
        "width = int(input(\"Enter width: \"))\n",
        "area = length*width\n",
        "print(f\"Area of the shape is: {area}\")\n",
        "if length==width:\n",
        "  print(\"Based upon inputs given, this shape is a Square\")\n",
        "else:\n",
        "  print(\"Based upon inputs given, this shape is a Rectangle\")"
      ],
      "metadata": {
        "colab": {
          "base_uri": "https://localhost:8080/"
        },
        "id": "bTpQiLZEkpEW",
        "outputId": "9db08529-0dfe-4964-a9df-3c6132e301ff"
      },
      "execution_count": 29,
      "outputs": [
        {
          "output_type": "stream",
          "name": "stdout",
          "text": [
            "Enter length: 20\n",
            "Enter width: 30\n",
            "Area of the shape is: 600\n",
            "Based upon inputs given, this shape is a Rectangle\n"
          ]
        }
      ]
    },
    {
      "cell_type": "markdown",
      "source": [
        "#### 9. Take two variable radius_1 and radius_2 and calculate the area of circle_1 and circle_2. Also print which circle has large area. If area is equal then print area is equal."
      ],
      "metadata": {
        "id": "AMT2U7kvmenh"
      }
    },
    {
      "cell_type": "code",
      "source": [
        "radius_1 = int(input(\"Enter radius for 1st circle: \"))\n",
        "radius_2 = int(input(\"Enter radius for 2nd circle: \"))\n",
        "circle_1_area = 3.14*radius_1**2\n",
        "circle_2_area = 3.14*radius_2**2\n",
        "if circle_1_area > circle_2_area:\n",
        "  print(f\"Circle 1 Area {circle_1_area} is greater than Circle 2 area {circle_2_area}\")\n",
        "elif circle_2_area > circle_1_area:\n",
        "  print(f\"Circle 2 Area {circle_2_area} is greater than Circle 1 area {circle_1_area}\")\n",
        "else:\n",
        "  print(\"Area of both circles are equal\")"
      ],
      "metadata": {
        "colab": {
          "base_uri": "https://localhost:8080/"
        },
        "id": "kJPGWwQlmjja",
        "outputId": "127d5055-0026-41b6-a9de-cb50f353ad7a"
      },
      "execution_count": 32,
      "outputs": [
        {
          "output_type": "stream",
          "name": "stdout",
          "text": [
            "Enter radius for 1st circle: 10\n",
            "Enter radius for 2nd circle: 20\n",
            "Circle 2 Area 1256.0 is greater than Circle 1 area 314.0\n"
          ]
        }
      ]
    },
    {
      "cell_type": "markdown",
      "source": [
        "#### 10. Check whether a year is leap year or not. Use nested if...else to solve this problem. A leap year is exactly divisible by 4 except for century years (years ending with 00). The century year is a leap year only if it is perfectly divisible by 400."
      ],
      "metadata": {
        "id": "aHUcWaTjyxmF"
      }
    },
    {
      "cell_type": "code",
      "source": [
        "year = int(input(\"Enter year to check if it's a leap year or not: \"))\n",
        "if year % 4==0:\n",
        "  if year % 400==0:\n",
        "    print(f\"This is a century leap year: {year}\")\n",
        "  else:\n",
        "    print(f\"This is a only a leap year: {year}\")\n",
        "else:\n",
        "  print(f\"This is a NOT a leap year: {year}\")\n",
        "\n"
      ],
      "metadata": {
        "colab": {
          "base_uri": "https://localhost:8080/"
        },
        "id": "wlKoAJp3y29l",
        "outputId": "dfd97ad1-4169-4e68-efa1-df38922b9c11"
      },
      "execution_count": 41,
      "outputs": [
        {
          "output_type": "stream",
          "name": "stdout",
          "text": [
            "Enter year to check if it's a leap year or not: 2000\n",
            "This is a century leap year: 2000\n"
          ]
        }
      ]
    }
  ]
}